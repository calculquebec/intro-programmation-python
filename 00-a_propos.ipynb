{
 "cells": [
  {
   "cell_type": "markdown",
   "metadata": {},
   "source": [
    "# PYT101 - Introduction à la programmation en Python\n",
    "## À propos\n",
    "\n",
    "Cet atelier est une adaptation du tutoriel\n",
    "[Software Carpentry - Programming with Python](https://swcarpentry.github.io/python-novice-inflammation/).\n",
    "\n",
    "Note : les *notebooks* IPython du présent atelier et les données associées sont [publiés sur GitHub](https://github.com/calculquebec/intro-programmation-python)."
   ]
  },
  {
   "cell_type": "markdown",
   "metadata": {},
   "source": [
    "### Table des matières\n",
    "1. [Les bases de la programmation en Python](01-python.ipynb)\n",
    "1. [Analyser des données tabulaires](02-numpy.ipynb)\n",
    "1. [Visualiser des données](03-matplotlib.ipynb)\n",
    "1. [Analyser les données de multiples fichiers](04-fichiers.ipynb)\n",
    "1. [Programmation conditionnelle](05-conditions.ipynb)\n",
    "1. [Créer des fonctions](06-fonctions.ipynb)\n",
    "1. [Erreurs et exceptions](07-erreurs.ipynb)"
   ]
  },
  {
   "cell_type": "markdown",
   "metadata": {},
   "source": [
    "### Les données utilisées\n",
    "Nous allons utiliser des valeurs d'inflammation de 60 patients sur 40 jours.\n",
    "![Présentation des données - 60 patients x 40 jours](fig/donnees.svg)\n",
    "*Image adaptée de la formation originale [Software Carpentry - Programming with Python](https://swcarpentry.github.io/python-novice-inflammation/fig/lesson-overview.svg)*"
   ]
  },
  {
   "cell_type": "markdown",
   "metadata": {},
   "source": [
    "### Comment utiliser l'interface Jupyter\n",
    "Lorsqu'une cellule est en mode d'édition :\n",
    "\n",
    "  Raccourci | Description\n",
    "----------- | -----------\n",
    "MAJ+Entrée  | Exécuter une cellule et aller à la suivante\n",
    "Tab         | Indenter le code ou autocomplétion\n",
    "Échap       | Aller en mode commande\n",
    "\n",
    "Lorsqu'une cellule est en mode commande :\n",
    "\n",
    "  Raccourci | Description\n",
    "----------- | -----------\n",
    "MAJ+Entrée  | Exécuter une cellule et aller à la suivante\n",
    "Double-clic | Aller en mode édition\n",
    "Entrée      | Aller en mode édition\n",
    "\n",
    "  Raccourci | Description\n",
    "----------- | -----------\n",
    "A           | Insérer une cellule en haut\n",
    "B           | Insérer une cellule en bas\n",
    "C           | Copier la cellule\n",
    "V           | Coller la cellule en bas\n",
    "D D         | Supprimer la cellule\n",
    "M           | Changer la cellule en code Markdown\n",
    "Y           | Changer la cellule en code Python\n",
    "\n",
    "Pour réinitialiser toutes les cellules :\n",
    "* Aller dans le menu du haut et sélectionner Kernel -> Restart & Clear Output"
   ]
  },
  {
   "cell_type": "code",
   "execution_count": null,
   "metadata": {},
   "outputs": [],
   "source": [
    "# Faites Maj+Entrée pour exécuter cette cellule\n",
    "1 + 2"
   ]
  },
  {
   "cell_type": "markdown",
   "metadata": {},
   "source": [
    "### Références\n",
    "Modules Python :\n",
    "* [Matplotlib](https://matplotlib.org/stable/index.html)\n",
    "* [Numpy](https://numpy.org/doc/stable/)\n",
    "\n",
    "Outils d'édition de codes Python :\n",
    "* Via [JupyterLab](https://docs.computecanada.ca/wiki/JupyterHub/fr) sur les grappes de calcul\n",
    "* L'éditeur [Spyder](https://www.spyder-ide.org)\n",
    "* [Visual Studio Code](https://code.visualstudio.com)\n",
    "\n",
    "Formation :\n",
    "* Les prochains ateliers à [Calcul Québec](https://www.eventbrite.ca/o/calcul-quebec-8295332683)\n",
    "  et [Calcul Canada](https://www.computecanada.ca/research-portal/technical-support/training/)\n",
    "* Tutoriels en ligne [Software Carpentry](https://software-carpentry.org/lessons/)\n",
    "  et [Data Carpentry](https://datacarpentry.org/lessons/) :"
   ]
  },
  {
   "cell_type": "code",
   "execution_count": null,
   "metadata": {},
   "outputs": [],
   "source": []
  }
 ],
 "metadata": {
  "anaconda-cloud": {},
  "kernelspec": {
   "display_name": "Python 3 (ipykernel)",
   "language": "python",
   "name": "python3"
  },
  "language_info": {
   "codemirror_mode": {
    "name": "ipython",
    "version": 3
   },
   "file_extension": ".py",
   "mimetype": "text/x-python",
   "name": "python",
   "nbconvert_exporter": "python",
   "pygments_lexer": "ipython3",
   "version": "3.8.10"
  }
 },
 "nbformat": 4,
 "nbformat_minor": 4
}
