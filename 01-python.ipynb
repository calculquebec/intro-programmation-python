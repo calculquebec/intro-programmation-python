{
 "cells": [
  {
   "cell_type": "markdown",
   "metadata": {},
   "source": [
    "# Programmer avec Python\n",
    "## Introduction à Python\n",
    "Questions\n",
    "* Quelles sont les notions de base dans Python?\n",
    "\n",
    "Objectifs\n",
    "* Assigner des valeurs à des variables.\n",
    "* Utiliser la boucle `for` pour des actions répétées.\n",
    "* Suivre les changements d'une variables dans une boucle.\n",
    "* Créer des listes et pouvoir accéder aux données.\n",
    "* Modifier le contenu des listes.\n",
    "* Sélectionner une ou plusieurs valeurs."
   ]
  },
  {
   "cell_type": "markdown",
   "metadata": {},
   "source": [
    "## Variables"
   ]
  },
  {
   "cell_type": "code",
   "execution_count": null,
   "metadata": {},
   "outputs": [],
   "source": [
    "# Comme une calculatrice\n"
   ]
  },
  {
   "cell_type": "code",
   "execution_count": null,
   "metadata": {},
   "outputs": [],
   "source": [
    "# Assignation d'une valeur à une variable\n",
    "poids_kg\n",
    "poids_kg"
   ]
  },
  {
   "cell_type": "markdown",
   "metadata": {},
   "source": [
    "### Types de données\n",
    "* nombres entiers,\n",
    "* nombres à virgule flottante et\n",
    "* chaînes de caractères."
   ]
  },
  {
   "cell_type": "code",
   "execution_count": null,
   "metadata": {},
   "outputs": [],
   "source": [
    "poids_kg\n",
    "poids_kg"
   ]
  },
  {
   "cell_type": "code",
   "execution_count": null,
   "metadata": {},
   "outputs": [],
   "source": [
    "Poids en kilogrammes :\n",
    "texte_kg"
   ]
  },
  {
   "cell_type": "markdown",
   "metadata": {},
   "source": [
    "### Utiliser des variables en Python"
   ]
  },
  {
   "cell_type": "code",
   "execution_count": null,
   "metadata": {},
   "outputs": [],
   "source": [
    "# Affichage explicit d'une variable\n"
   ]
  },
  {
   "cell_type": "code",
   "execution_count": null,
   "metadata": {},
   "outputs": [],
   "source": [
    "# Afficher plusieurs variables\n",
    "(poids_kg)"
   ]
  },
  {
   "cell_type": "code",
   "execution_count": null,
   "metadata": {},
   "outputs": [],
   "source": [
    "# Afficher des valeurs temporaires\n",
    "print('Poids en livres :', poids_kg)"
   ]
  },
  {
   "cell_type": "code",
   "execution_count": null,
   "metadata": {},
   "outputs": [],
   "source": [
    "# Variable inchangée si non-assignée\n",
    "(poids_kg)"
   ]
  },
  {
   "cell_type": "code",
   "execution_count": null,
   "metadata": {},
   "outputs": [],
   "source": [
    "# Changer la valeur d'une variable\n",
    "poids_kg\n",
    "print('Le poids est maintenant :', poids_kg)"
   ]
  },
  {
   "cell_type": "markdown",
   "metadata": {},
   "source": [
    "![Variable comme une étiquette](fig/etiquette-variable-01.svg)"
   ]
  },
  {
   "cell_type": "code",
   "execution_count": null,
   "metadata": {},
   "outputs": [],
   "source": [
    "# Calculer 2.2 livres par kilogramme\n",
    "poids_kg\n",
    "print(texte_kg, poids_kg)\n",
    "print('Poids en livres :', )"
   ]
  },
  {
   "cell_type": "markdown",
   "metadata": {},
   "source": [
    "![Deux variables](fig/etiquette-variable-02.svg)"
   ]
  },
  {
   "cell_type": "code",
   "execution_count": null,
   "metadata": {},
   "outputs": [],
   "source": [
    "poids_kg =\n",
    "print('Poids en kilogrammes est maintenant :', poids_kg)\n",
    "print('Poids en livres est toujours :', poids_lb)"
   ]
  },
  {
   "cell_type": "markdown",
   "metadata": {},
   "source": [
    "![Variables indépendantes](fig/etiquette-variable-03.svg)"
   ]
  },
  {
   "cell_type": "markdown",
   "metadata": {},
   "source": [
    "### Exercice\n",
    "Dessiner un diagramme montrant quelles variables réfèrent à quelles valeurs après chaque ligne de code dans le programme suivant :"
   ]
  },
  {
   "cell_type": "code",
   "execution_count": null,
   "metadata": {},
   "outputs": [],
   "source": [
    "pop1 = 1            # pop1 -> , pop2 -> \n",
    "pop2 = pop1 + 1     # pop1 -> , pop2 -> \n",
    "\n",
    "pop1 = pop1 + pop2  # pop1 -> , pop2 -> \n",
    "pop2 = pop1 + pop2  # pop1 -> , pop2 -> \n",
    "\n",
    "# print(f'pop1 = {pop1}, pop2 = {pop2}')"
   ]
  },
  {
   "cell_type": "markdown",
   "metadata": {},
   "source": [
    "## Actions répétées\n",
    "Pour un nombre fixe d'actions répétées, qu'arrive-t-il si on change la chaîne en entrée?"
   ]
  },
  {
   "cell_type": "code",
   "execution_count": null,
   "metadata": {},
   "outputs": [],
   "source": []
  },
  {
   "cell_type": "code",
   "execution_count": null,
   "metadata": {},
   "outputs": [],
   "source": [
    "print()\n",
    "print(mot[])\n",
    "print(mot[])\n",
    "print(mot[])\n",
    "print(mot[])"
   ]
  },
  {
   "cell_type": "markdown",
   "metadata": {},
   "source": [
    "### Utiliser des boucles\n",
    "Syntaxe des boucles :\n",
    "```Python\n",
    "for variable in collection:\n",
    "    # Faire quelque chose avec variable\n",
    "```"
   ]
  },
  {
   "cell_type": "code",
   "execution_count": null,
   "metadata": {},
   "outputs": [],
   "source": [
    "mot = 'soie'\n",
    "\n",
    "    print(lettre)"
   ]
  },
  {
   "cell_type": "markdown",
   "metadata": {},
   "source": [
    "### Modifier des variables dans une boucle"
   ]
  },
  {
   "cell_type": "code",
   "execution_count": null,
   "metadata": {},
   "outputs": [],
   "source": [
    "\n",
    "for voyelle in 'aeiou':\n",
    "    \n",
    "print('Il y a', , 'voyelles')"
   ]
  },
  {
   "cell_type": "code",
   "execution_count": null,
   "metadata": {},
   "outputs": [],
   "source": [
    "print(('aeiou'))"
   ]
  },
  {
   "cell_type": "code",
   "execution_count": null,
   "metadata": {},
   "outputs": [],
   "source": [
    "lettre =\n",
    "for lettre in :\n",
    "    print(lettre)\n",
    "print('Après la boucle, la variable lettre est :', )"
   ]
  },
  {
   "cell_type": "markdown",
   "metadata": {},
   "source": [
    "### Exercice - Renverser une chaîne de caractères\n",
    "Sachant que deux chaînes de caractères peuvent être concaténées en utilisant l'opérateur `+`, écrivez une boucle recevant une chaîne de caractères et produisant une chaîne de caractères dans l'ordre inverse, soit `'Newton'` devenant `'notweN'`."
   ]
  },
  {
   "cell_type": "code",
   "execution_count": null,
   "metadata": {},
   "outputs": [],
   "source": [
    "resultat = ''\n",
    "nom = 'Newton'\n",
    "\n",
    "for lettre in :\n",
    "    resultat =\n",
    "\n",
    "print(resultat)"
   ]
  },
  {
   "cell_type": "markdown",
   "metadata": {},
   "source": [
    "### Exercice - Utiliser `range()`\n",
    "```Python\n",
    "for i in range(3):         # 0, 1, 2\n",
    "for i in range(2, 5):      # 2, 3, 4\n",
    "for i in range(3, 10, 2):  # 3, 5, 7, 9\n",
    "```\n",
    "Mais comment pouvons-nous obtenir les valeurs 10, 8, 6 et 4?"
   ]
  },
  {
   "cell_type": "code",
   "execution_count": null,
   "metadata": {},
   "outputs": [],
   "source": [
    "for  in :\n",
    "    print(i)"
   ]
  },
  {
   "cell_type": "markdown",
   "metadata": {},
   "source": [
    "## Les listes en Python"
   ]
  },
  {
   "cell_type": "code",
   "execution_count": null,
   "metadata": {},
   "outputs": [],
   "source": [
    "\n",
    "print('Les nombres impairs sont :', impairs)"
   ]
  },
  {
   "cell_type": "code",
   "execution_count": null,
   "metadata": {},
   "outputs": [],
   "source": [
    "print('Premier et dernier :', impairs, impairs)"
   ]
  },
  {
   "cell_type": "code",
   "execution_count": null,
   "metadata": {},
   "outputs": [],
   "source": [
    "for\n",
    "    print(nombre)"
   ]
  },
  {
   "cell_type": "markdown",
   "metadata": {},
   "source": [
    "### Mutable vs Immutable\n",
    "Les listes sont dites *mutables*, car nous pouvons échanger un de leurs éléments :"
   ]
  },
  {
   "cell_type": "code",
   "execution_count": null,
   "metadata": {},
   "outputs": [],
   "source": [
    "noms = 'Newton', 'Darwing', 'Turing'  # Erreur dans le nom de Darwin\n",
    "print('La liste noms contient initialement :', )\n",
    "\n",
    "noms =   # Remplacement complet du nom\n",
    "print('Contenu final de la liste noms :', noms)"
   ]
  },
  {
   "cell_type": "markdown",
   "metadata": {},
   "source": [
    "Par contre, les chaînes de caractères sont immutables :"
   ]
  },
  {
   "cell_type": "code",
   "execution_count": null,
   "metadata": {},
   "outputs": [],
   "source": [
    "nom = 'Darwin'\n",
    "nom =   # Ceci produira une erreur d'exécution"
   ]
  },
  {
   "cell_type": "markdown",
   "metadata": {},
   "source": [
    "### Modifier le contenu des listes"
   ]
  },
  {
   "cell_type": "code",
   "execution_count": null,
   "metadata": {},
   "outputs": [],
   "source": [
    "\n",
    "print(\"La liste impairs après l'ajout d'un nombre :\", impairs)"
   ]
  },
  {
   "cell_type": "code",
   "execution_count": null,
   "metadata": {},
   "outputs": [],
   "source": [
    "\n",
    "print(\"La liste impairs après la suppression d'un nombre :\", impairs)"
   ]
  },
  {
   "cell_type": "code",
   "execution_count": null,
   "metadata": {},
   "outputs": [],
   "source": [
    "impairs = [1, 3, 5, 7]\n",
    "\n",
    "premiers =\n",
    "# impairs\n",
    "\n",
    "print('premiers:', premiers)\n",
    "# print('impairs:', impairs)"
   ]
  },
  {
   "cell_type": "markdown",
   "metadata": {},
   "source": [
    "### Exercice - Construire une nouvelle liste\n",
    "Utilisez une boucle `for` pour construire une liste de 10 nombres *triangulaires* (1, 1+2, 1+2+3, ..., 1+...+10).\n",
    "Indice : vous pouvez créer une liste vide comme suit :\n",
    "```Python\n",
    "ma_liste = []\n",
    "```"
   ]
  },
  {
   "cell_type": "code",
   "execution_count": null,
   "metadata": {},
   "outputs": [],
   "source": [
    "ma_liste =\n",
    "cumul = 0\n",
    "\n",
    "for i\n",
    "    cumul +=\n",
    "    ma_liste\n",
    "\n",
    "print(ma_liste)"
   ]
  },
  {
   "cell_type": "markdown",
   "metadata": {},
   "source": [
    "## Le découpage\n",
    "```Python\n",
    "decoupe = liste_ou_chaine[debut:limite:saut]\n",
    "```\n",
    "* Si `debut` est omis, c'est 0 par défaut\n",
    "* Si `limite` est omis, c'est la longueur de la collection par défaut\n",
    "* Si `saut` est omis, c'est 1 par défaut"
   ]
  },
  {
   "cell_type": "code",
   "execution_count": null,
   "metadata": {},
   "outputs": [],
   "source": [
    "elements = [\"fluorine\", \"F\"],\n",
    "            [\"chlorine\", \"Cl\"],\n",
    "            [\"bromine\", \"Br\"],\n",
    "            [\"iodine\", \"I\"],\n",
    "            [\"astatine\", \"At\"]\n",
    "\n",
    "elements"
   ]
  },
  {
   "cell_type": "code",
   "execution_count": null,
   "metadata": {},
   "outputs": [],
   "source": [
    "chaine_a_decouper = \"Date historique : 2020-03-13\"\n",
    "chaine_a_decouper  # Extraire la date"
   ]
  },
  {
   "cell_type": "code",
   "execution_count": null,
   "metadata": {},
   "outputs": [],
   "source": [
    "une_liste = [i**2 for i in range(20)]  # Remplissage rapide de 0^2 à 19^2\n",
    "une_liste"
   ]
  },
  {
   "cell_type": "markdown",
   "metadata": {},
   "source": [
    "### Exercices - Trancher des chaînes de caractères\n",
    "Quelle serait la sortie des commandes suivantes?"
   ]
  },
  {
   "cell_type": "code",
   "execution_count": null,
   "metadata": {},
   "outputs": [],
   "source": [
    "element = 'oxygen'\n",
    "#print(element[0:3])    #\n",
    "#print(element[3:6])    #"
   ]
  },
  {
   "cell_type": "code",
   "execution_count": null,
   "metadata": {},
   "outputs": [],
   "source": [
    "#print(element[:4])     #\n",
    "#print(element[4:])     #\n",
    "#print(element[:])      #"
   ]
  },
  {
   "cell_type": "code",
   "execution_count": null,
   "metadata": {},
   "outputs": [],
   "source": [
    "#print(element[-1])     #\n",
    "#print(element[-2])     #\n",
    "#print(element[1:-1])   #"
   ]
  },
  {
   "cell_type": "code",
   "execution_count": null,
   "metadata": {},
   "outputs": [],
   "source": [
    "#print(element[3:3])    #"
   ]
  },
  {
   "cell_type": "code",
   "execution_count": null,
   "metadata": {},
   "outputs": [],
   "source": []
  }
 ],
 "metadata": {
  "anaconda-cloud": {},
  "kernelspec": {
   "display_name": "Python 3 (ipykernel)",
   "language": "python",
   "name": "python3"
  },
  "language_info": {
   "codemirror_mode": {
    "name": "ipython",
    "version": 3
   },
   "file_extension": ".py",
   "mimetype": "text/x-python",
   "name": "python",
   "nbconvert_exporter": "python",
   "pygments_lexer": "ipython3",
   "version": "3.8.10"
  }
 },
 "nbformat": 4,
 "nbformat_minor": 4
}
