{
 "cells": [
  {
   "cell_type": "markdown",
   "metadata": {},
   "source": [
    "# Programmer avec Python\n",
    "## Visualiser des données\n",
    "Questions\n",
    "* Comment visualiser des données tabulaires avec Python?\n",
    "\n",
    "Objectifs\n",
    "* Afficher de simples graphiques."
   ]
  },
  {
   "cell_type": "markdown",
   "metadata": {},
   "source": [
    "## Charger les données dans Python"
   ]
  },
  {
   "cell_type": "code",
   "execution_count": null,
   "metadata": {},
   "outputs": [],
   "source": [
    "# Importer NumPy\n"
   ]
  },
  {
   "cell_type": "code",
   "execution_count": null,
   "metadata": {},
   "outputs": [],
   "source": [
    "# Chargement des données\n",
    "(fname='data/inflammation-01.csv', delimiter=',')"
   ]
  },
  {
   "cell_type": "markdown",
   "metadata": {},
   "source": [
    "## Créer des graphiques\n",
    "Nous allons utiliser la bibliothèque Matplotlib pour générer quelques graphiques.\n",
    "Différents exemples sont [disponibles en ligne](https://matplotlib.org/stable/gallery/index) pour illustrer les différentes options de visualisation."
   ]
  },
  {
   "cell_type": "code",
   "execution_count": null,
   "metadata": {},
   "outputs": [],
   "source": [
    "# Chargement du module Pyplot via la bibliothèque Matplotlib\n",
    "import"
   ]
  },
  {
   "cell_type": "code",
   "execution_count": null,
   "metadata": {},
   "outputs": [],
   "source": [
    "# Afficher l'intensité de chaque mesure d'inflammation\n",
    "\n"
   ]
  },
  {
   "cell_type": "code",
   "execution_count": null,
   "metadata": {},
   "outputs": [],
   "source": [
    "# Préparation des données avant la visualisation\n",
    "moy_jour = numpy.(data, )\n",
    "\n",
    "plot_moy_jour = plt.()\n",
    "plt.()"
   ]
  },
  {
   "cell_type": "markdown",
   "metadata": {},
   "source": [
    "### Exercice - Créez votre propre graphique\n",
    "Créez un graphique montrant la déviation standard (avec `numpy.std`) des données d'inflammation pour chaque jour."
   ]
  },
  {
   "cell_type": "code",
   "execution_count": null,
   "metadata": {},
   "outputs": [],
   "source": [
    "std_plot =\n",
    "plt.show()"
   ]
  },
  {
   "cell_type": "markdown",
   "metadata": {},
   "source": [
    "## Les sous-graphiques"
   ]
  },
  {
   "cell_type": "code",
   "execution_count": null,
   "metadata": {},
   "outputs": [],
   "source": [
    "# Une figure globale\n",
    "fig = plt.(=(3 * 3.5, 3.0))\n",
    "\n",
    "# Trois sous-figures\n",
    "axes1 = fig.()\n",
    "axes2 = fig.add_subplot(1, 3, 2)\n",
    "axes3 = fig.add_subplot(1, 3, 3)\n",
    "\n",
    "# Création des trois graphiques\n",
    "axes1.('Moyenne')\n",
    "axes1.(numpy.(data, axis=))\n",
    "\n",
    "axes2.set_ylabel('Max')\n",
    "axes2.plot(numpy.(data, axis=0))\n",
    "\n",
    "axes3.set_ylabel('Min')\n",
    "axes3.plot(numpy.(data, axis=0))\n",
    "\n",
    "# Ajustement automatique du contenu\n",
    "fig\n",
    "\n",
    "plt.show()"
   ]
  },
  {
   "cell_type": "code",
   "execution_count": null,
   "metadata": {},
   "outputs": [],
   "source": []
  }
 ],
 "metadata": {
  "anaconda-cloud": {},
  "kernelspec": {
   "display_name": "Python 3 (ipykernel)",
   "language": "python",
   "name": "python3"
  },
  "language_info": {
   "codemirror_mode": {
    "name": "ipython",
    "version": 3
   },
   "file_extension": ".py",
   "mimetype": "text/x-python",
   "name": "python",
   "nbconvert_exporter": "python",
   "pygments_lexer": "ipython3",
   "version": "3.8.10"
  }
 },
 "nbformat": 4,
 "nbformat_minor": 4
}
