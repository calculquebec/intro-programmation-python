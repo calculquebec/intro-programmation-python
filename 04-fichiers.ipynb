{
 "cells": [
  {
   "cell_type": "markdown",
   "metadata": {},
   "source": [
    "# Programmer avec Python\n",
    "## Analyser les données de multiples fichiers\n",
    "Questions\n",
    "* Comment effectuer une même séquence d'opérations sur différents fichiers?\n",
    "\n",
    "Objectifs\n",
    "* Utiliser une fonction d'une bibliothèque pour obtenir une liste de noms de fichiers correspondant à une expression régulière.\n",
    "* Utiliser une boucle `for` pour traiter de multiples fichiers."
   ]
  },
  {
   "cell_type": "markdown",
   "metadata": {},
   "source": [
    "## Utiliser `glob`"
   ]
  },
  {
   "cell_type": "code",
   "execution_count": null,
   "metadata": {},
   "outputs": [],
   "source": [
    "# Importer le module glob\n"
   ]
  },
  {
   "cell_type": "code",
   "execution_count": null,
   "metadata": {},
   "outputs": [],
   "source": [
    "# Obtenir la liste de tous les fichiers CSV\n",
    "print(('data/inflammation'))"
   ]
  },
  {
   "cell_type": "markdown",
   "metadata": {},
   "source": [
    "## Charger les fichiers dans l'ordre"
   ]
  },
  {
   "cell_type": "code",
   "execution_count": null,
   "metadata": {},
   "outputs": [],
   "source": [
    "import numpy\n",
    "import matplotlib.pyplot"
   ]
  },
  {
   "cell_type": "code",
   "execution_count": null,
   "metadata": {},
   "outputs": [],
   "source": [
    "# Obtenir les trois premiers fichiers selon l'ordre alphanumérique\n",
    "('data/inflammation*.csv')\n",
    "\n",
    "\n",
    "# Pour chaque nom de fichier\n",
    "for\n",
    "    # Afficher le nom\n",
    "    print()\n",
    "\n",
    "# Charger les données du fichier en cours\n",
    "data = numpy.loadtxt(fname='data/inflammation*.csv', delimiter=',')\n",
    "\n",
    "# Créer la figure avec les trois sous-figures\n",
    "fig = plt.figure(figsize=(10.0, 3.0))\n",
    "\n",
    "axes1 = fig.add_subplot(1, 3, 1)\n",
    "axes2 = fig.add_subplot(1, 3, 2)\n",
    "axes3 = fig.add_subplot(1, 3, 3)\n",
    "\n",
    "axes1.set_ylabel('Moyenne')\n",
    "axes1.plot(numpy.mean(data, axis=0))\n",
    "\n",
    "axes2.set_ylabel('Max')\n",
    "axes2.plot(numpy.max(data, axis=0))\n",
    "\n",
    "axes3.set_ylabel('Min')\n",
    "axes3.plot(numpy.min(data, axis=0))\n",
    "\n",
    "fig.tight_layout()\n",
    "plt.show()"
   ]
  },
  {
   "cell_type": "markdown",
   "metadata": {},
   "source": [
    "### Exercice - Créer un graphique des différences de moyennes\n",
    "Créez un graphique montrant la différence des moyennes quotidiennes des premier et deuxième jeux de données.\n",
    "En d'autres mots, on veut la différence entre les graphiques de gauche des deux premières sous-figures ci-dessus."
   ]
  },
  {
   "cell_type": "code",
   "execution_count": null,
   "metadata": {},
   "outputs": [],
   "source": [
    "noms_fic = ('data/inflammation*.csv')\n",
    "\n",
    "data0 = numpy.(fname=noms_fic, delimiter=',')\n",
    "data1 = numpy.loadtxt(fname=noms_fic, delimiter=',')\n",
    "\n",
    "# Calculer la différence des moyennes et la visualiser\n",
    "plt.plot(numpy.(, )  numpy.mean(data1, axis=0))\n",
    "plt.ylabel('Différence des moyennes')\n",
    "\n",
    "plt.show()"
   ]
  },
  {
   "cell_type": "code",
   "execution_count": null,
   "metadata": {},
   "outputs": [],
   "source": []
  }
 ],
 "metadata": {
  "anaconda-cloud": {},
  "kernelspec": {
   "display_name": "Python 3 (ipykernel)",
   "language": "python",
   "name": "python3"
  },
  "language_info": {
   "codemirror_mode": {
    "name": "ipython",
    "version": 3
   },
   "file_extension": ".py",
   "mimetype": "text/x-python",
   "name": "python",
   "nbconvert_exporter": "python",
   "pygments_lexer": "ipython3",
   "version": "3.8.10"
  }
 },
 "nbformat": 4,
 "nbformat_minor": 4
}
