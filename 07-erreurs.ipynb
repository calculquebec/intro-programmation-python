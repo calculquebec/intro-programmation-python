{
 "cells": [
  {
   "cell_type": "markdown",
   "metadata": {},
   "source": [
    "# Programmer avec Python\n",
    "## Erreurs et exceptions\n",
    "Questions\n",
    "* Comment Python signale des erreurs?\n",
    "* Comment gérer les erreurs dans un programme Python?\n",
    "\n",
    "Objectifs\n",
    "* Être capable de lire une trace d'exécution, de déterminer où l'erreur a eu lieu et de quel type d'erreur il s'agit.\n",
    "* Être capable de décrire les cas d'erreurs de syntaxe, d'indentation, de nom ou d'accès à un fichier."
   ]
  },
  {
   "cell_type": "markdown",
   "metadata": {},
   "source": [
    "## Trace d'exécution en Python"
   ]
  },
  {
   "cell_type": "code",
   "execution_count": null,
   "metadata": {},
   "outputs": [],
   "source": [
    "# Ce code contient une erreur intentionnelle\n",
    "def saveur_preferee():\n",
    "    creme_glacee = [\n",
    "        \"chocolat\",\n",
    "        \"vanille\",\n",
    "        \"fraise\"\n",
    "    ]\n",
    "    print(creme_glacee[3])\n",
    "\n",
    "saveur_preferee()"
   ]
  },
  {
   "cell_type": "markdown",
   "metadata": {},
   "source": [
    "## Erreurs de syntaxe"
   ]
  },
  {
   "cell_type": "code",
   "execution_count": null,
   "metadata": {},
   "outputs": [],
   "source": [
    "def bonjour()\n",
    "    msg = \"Bonjour le monde!\"\n",
    "    print(msg)\n",
    "     return msg"
   ]
  },
  {
   "cell_type": "markdown",
   "metadata": {},
   "source": [
    "### Démo - Identifier les erreurs de syntaxe\n",
    "\n",
    "1. Lire le code ci-dessous et (sans l'exécuter) essayer d'identifier les erreurs.\n",
    "1. Exécuter le code et lire le message d'erreur. Est-ce un SyntaxError or un IndentationError?\n",
    "1. Corriger l'erreur.\n",
    "1. Répéter les étapes 2 et 3 jusqu'à ce que toutes les erreurs soient corrigées."
   ]
  },
  {
   "cell_type": "markdown",
   "metadata": {},
   "source": [
    "```Python\n",
    "def fonction_mystere\n",
    "  print(\"Les erreurs de syntaxe sont agaçantes.\")\n",
    "   print(\"Au moins, Python nous en informe!\")\n",
    "  print(\"Ce qui facilite leur correction.\")\n",
    "```"
   ]
  },
  {
   "cell_type": "markdown",
   "metadata": {},
   "source": [
    "Votre solution ici:"
   ]
  },
  {
   "cell_type": "code",
   "execution_count": null,
   "metadata": {},
   "outputs": [],
   "source": [
    "def fonction_mystere\n",
    "  print(\"Les erreurs de syntaxe sont agaçantes.\")\n",
    "   print(\"Au moins, Python nous en informe!\")\n",
    "  print(\"Ce qui facilite leur correction.\")"
   ]
  },
  {
   "cell_type": "markdown",
   "metadata": {},
   "source": [
    "## Erreurs de nom de variable"
   ]
  },
  {
   "cell_type": "code",
   "execution_count": null,
   "metadata": {},
   "outputs": [],
   "source": [
    "print(maison)"
   ]
  },
  {
   "cell_type": "code",
   "execution_count": null,
   "metadata": {},
   "outputs": [],
   "source": [
    "Somme = 0\n",
    "for nombre in range(10):\n",
    "    somme = somme + nombre\n",
    "print(\"La somme est :\", somme)"
   ]
  },
  {
   "cell_type": "markdown",
   "metadata": {},
   "source": [
    "### Démo - Identifier les erreurs de nom de variable\n",
    "\n",
    "1. Lire le code ci-dessous et (sans l'exécuter) essayer d'identifier les erreurs.\n",
    "1. Exécuter le code et lire le message d'erreur. Quel type de NameError s'agit-il? En d'autres mots, est-ce une chaîne de caractères sans guillemets, une variable mal orthographiée ou une variable qui n'avait pas été définie?\n",
    "1. Corriger l'erreur.\n",
    "1. Répéter les étapes 2 et 3 jusqu'à ce que toutes les erreurs soient corrigées."
   ]
  },
  {
   "cell_type": "markdown",
   "metadata": {},
   "source": [
    "```Python\n",
    "for nombre in range(10):\n",
    "    # Concaténer un a si nombre est un multiple de 3, sinon concaténer un b\n",
    "    if (Nombre % 3) == 0:\n",
    "        message = message + a\n",
    "    else:\n",
    "        message = message + 'b'\n",
    "print(message)\n",
    "```"
   ]
  },
  {
   "cell_type": "markdown",
   "metadata": {},
   "source": [
    "Votre solution ici:"
   ]
  },
  {
   "cell_type": "code",
   "execution_count": null,
   "metadata": {},
   "outputs": [],
   "source": [
    "\n",
    "for nombre in range(10):\n",
    "    # Concaténer un a si nombre est un multiple de 3, sinon concaténer un b\n",
    "    if (Nombre % 3) == 0:\n",
    "        message = message + a\n",
    "    else:\n",
    "        message = message + 'b'\n",
    "print(message)"
   ]
  },
  {
   "cell_type": "markdown",
   "metadata": {},
   "source": [
    "## Erreurs d'index"
   ]
  },
  {
   "cell_type": "code",
   "execution_count": null,
   "metadata": {},
   "outputs": [],
   "source": [
    "lettres = ['a', 'b', 'c']\n",
    "print(\"Lettre #1 est\", lettres[0])\n",
    "print(\"Lettre #2 est\", lettres[1])\n",
    "print(\"Lettre #3 est\", lettres[2])\n",
    "print(\"Lettre #4 est\", lettres[3])"
   ]
  },
  {
   "cell_type": "markdown",
   "metadata": {},
   "source": [
    "## Erreurs de fichier"
   ]
  },
  {
   "cell_type": "code",
   "execution_count": null,
   "metadata": {},
   "outputs": [],
   "source": [
    "descripteur_fic = open('monfichier.txt', 'r')"
   ]
  },
  {
   "cell_type": "code",
   "execution_count": null,
   "metadata": {},
   "outputs": [],
   "source": [
    "descripteur_fic = open('monfichier.txt', 'w')\n",
    "descripteur_fic.read()"
   ]
  },
  {
   "cell_type": "code",
   "execution_count": null,
   "metadata": {},
   "outputs": [],
   "source": []
  }
 ],
 "metadata": {
  "anaconda-cloud": {},
  "kernelspec": {
   "display_name": "Python 3 (ipykernel)",
   "language": "python",
   "name": "python3"
  },
  "language_info": {
   "codemirror_mode": {
    "name": "ipython",
    "version": 3
   },
   "file_extension": ".py",
   "mimetype": "text/x-python",
   "name": "python",
   "nbconvert_exporter": "python",
   "pygments_lexer": "ipython3",
   "version": "3.8.10"
  }
 },
 "nbformat": 4,
 "nbformat_minor": 4
}
