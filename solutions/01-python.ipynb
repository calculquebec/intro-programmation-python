{
 "cells": [
  {
   "cell_type": "markdown",
   "metadata": {},
   "source": [
    "# Programmer avec Python\n",
    "## Les bases de la programmation en Python\n",
    "Questions\n",
    "* Quelles sont les notions de base dans Python?\n",
    "\n",
    "Objectifs\n",
    "* Assigner des valeurs à des variables.\n",
    "* Utiliser la boucle `for` pour des actions répétées.\n",
    "* Suivre les changements d'une variables dans une boucle.\n",
    "* Créer des listes et pouvoir accéder aux données.\n",
    "* Modifier le contenu des listes.\n",
    "* Sélectionner une ou plusieurs valeurs."
   ]
  },
  {
   "cell_type": "markdown",
   "metadata": {},
   "source": [
    "## Variables"
   ]
  },
  {
   "cell_type": "code",
   "execution_count": null,
   "metadata": {},
   "outputs": [],
   "source": [
    "# Comme une calculatrice\n",
    "3 + 5 * 4"
   ]
  },
  {
   "cell_type": "code",
   "execution_count": null,
   "metadata": {},
   "outputs": [],
   "source": [
    "# Assignation d'une valeur à une variable\n",
    "poids_kg = 60\n",
    "poids_kg"
   ]
  },
  {
   "cell_type": "markdown",
   "metadata": {},
   "source": [
    "### Types de données\n",
    "* nombres entiers,\n",
    "* nombres à virgule flottante et\n",
    "* chaînes de caractères."
   ]
  },
  {
   "cell_type": "code",
   "execution_count": null,
   "metadata": {},
   "outputs": [],
   "source": [
    "poids_kg = 60.0\n",
    "poids_kg"
   ]
  },
  {
   "cell_type": "code",
   "execution_count": null,
   "metadata": {},
   "outputs": [],
   "source": [
    "texte_kg = 'Poids en kilogrammes :'\n",
    "texte_kg"
   ]
  },
  {
   "cell_type": "markdown",
   "metadata": {},
   "source": [
    "### Utiliser des variables en Python"
   ]
  },
  {
   "cell_type": "code",
   "execution_count": null,
   "metadata": {},
   "outputs": [],
   "source": [
    "# Affichage explicit d'une variable\n",
    "print(poids_kg)"
   ]
  },
  {
   "cell_type": "code",
   "execution_count": null,
   "metadata": {},
   "outputs": [],
   "source": [
    "# Afficher plusieurs variables\n",
    "print(texte_kg, poids_kg)"
   ]
  },
  {
   "cell_type": "code",
   "execution_count": null,
   "metadata": {},
   "outputs": [],
   "source": [
    "# Afficher des valeurs temporaires\n",
    "print('Poids en livres :', 2.2 * poids_kg)"
   ]
  },
  {
   "cell_type": "code",
   "execution_count": null,
   "metadata": {},
   "outputs": [],
   "source": [
    "# Variable inchangée si non-assignée\n",
    "print(poids_kg)"
   ]
  },
  {
   "cell_type": "code",
   "execution_count": null,
   "metadata": {},
   "outputs": [],
   "source": [
    "# Changer la valeur d'une variable\n",
    "poids_kg = 65.0\n",
    "print('Le poids est maintenant :', poids_kg)"
   ]
  },
  {
   "cell_type": "markdown",
   "metadata": {},
   "source": [
    "![Variable comme une étiquette](../fig/etiquette-variable-01.svg)"
   ]
  },
  {
   "cell_type": "code",
   "execution_count": null,
   "metadata": {},
   "outputs": [],
   "source": [
    "# Calculer 2.2 livres par kilogramme\n",
    "poids_lb = 2.2 * poids_kg\n",
    "print(texte_kg, poids_kg)\n",
    "print('Poids en livres :', poids_lb)"
   ]
  },
  {
   "cell_type": "markdown",
   "metadata": {},
   "source": [
    "![Deux variables](../fig/etiquette-variable-02.svg)"
   ]
  },
  {
   "cell_type": "code",
   "execution_count": null,
   "metadata": {},
   "outputs": [],
   "source": [
    "poids_kg = 100.0\n",
    "print('Poids en kilogrammes est maintenant :', poids_kg)\n",
    "print('Poids en livres est toujours :', poids_lb)"
   ]
  },
  {
   "cell_type": "markdown",
   "metadata": {},
   "source": [
    "![Variables indépendantes](../fig/etiquette-variable-03.svg)"
   ]
  },
  {
   "cell_type": "markdown",
   "metadata": {},
   "source": [
    "### Exercice\n",
    "Dessiner un diagramme montrant quelles variables réfèrent à quelles valeurs après chaque ligne de code dans le programme suivant :"
   ]
  },
  {
   "cell_type": "code",
   "execution_count": null,
   "metadata": {},
   "outputs": [],
   "source": [
    "pop1 = 1            # pop1 -> 1, pop2 -> non-défini\n",
    "pop2 = pop1 + 1     # pop1 -> 1, pop2 -> 2\n",
    "\n",
    "pop1 = pop1 + pop2  # pop1 -> 3, pop2 -> 2\n",
    "pop2 = pop1 + pop2  # pop1 -> 3, pop2 -> 5\n",
    "\n",
    "print(f'pop1 = {pop1}, pop2 = {pop2}')"
   ]
  },
  {
   "cell_type": "markdown",
   "metadata": {},
   "source": [
    "## Actions répétées\n",
    "Pour un nombre fixe d'actions répétées, qu'arrive-t-il si on change la chaîne en entrée?"
   ]
  },
  {
   "cell_type": "code",
   "execution_count": null,
   "metadata": {},
   "outputs": [],
   "source": [
    "mot = 'coton'  # 'soie'"
   ]
  },
  {
   "cell_type": "code",
   "execution_count": null,
   "metadata": {},
   "outputs": [],
   "source": [
    "print(mot[0])\n",
    "print(mot[1])\n",
    "print(mot[2])\n",
    "print(mot[3])\n",
    "print(mot[4])"
   ]
  },
  {
   "cell_type": "markdown",
   "metadata": {},
   "source": [
    "### Utiliser des boucles\n",
    "Syntaxe des boucles :\n",
    "```Python\n",
    "for variable in collection:\n",
    "    # Faire quelque chose avec variable\n",
    "```"
   ]
  },
  {
   "cell_type": "code",
   "execution_count": null,
   "metadata": {},
   "outputs": [],
   "source": [
    "mot = 'soie'  # 'coton'\n",
    "for lettre in mot:\n",
    "    print(lettre)"
   ]
  },
  {
   "cell_type": "markdown",
   "metadata": {},
   "source": [
    "### Modifier des variables dans une boucle"
   ]
  },
  {
   "cell_type": "code",
   "execution_count": null,
   "metadata": {},
   "outputs": [],
   "source": [
    "n = 0\n",
    "for voyelle in 'aeiou':\n",
    "    n = n + 1\n",
    "print('Il y a', n, 'voyelles')"
   ]
  },
  {
   "cell_type": "code",
   "execution_count": null,
   "metadata": {},
   "outputs": [],
   "source": [
    "print(len('aeiou'))"
   ]
  },
  {
   "cell_type": "code",
   "execution_count": null,
   "metadata": {},
   "outputs": [],
   "source": [
    "lettre = 'z'\n",
    "for lettre in 'abc':\n",
    "    print(lettre)\n",
    "print('Après la boucle, la variable lettre est :', lettre)"
   ]
  },
  {
   "cell_type": "markdown",
   "metadata": {},
   "source": [
    "### Exercice - Renverser une chaîne de caractères\n",
    "Sachant que deux chaînes de caractères peuvent être concaténées en utilisant l'opérateur `+`, écrivez une boucle recevant une chaîne de caractères et produisant une chaîne de caractères dans l'ordre inverse, soit `'Newton'` devenant `'notweN'`."
   ]
  },
  {
   "cell_type": "code",
   "execution_count": null,
   "metadata": {},
   "outputs": [],
   "source": [
    "resultat = ''\n",
    "nom = 'Newton'\n",
    "\n",
    "for lettre in nom:\n",
    "    resultat = lettre + resultat\n",
    "\n",
    "print(resultat)"
   ]
  },
  {
   "cell_type": "markdown",
   "metadata": {},
   "source": [
    "### Exercice en groupe - Utiliser `range()`\n",
    "```Python\n",
    "for i in range(3):         # 0, 1, 2\n",
    "for i in range(2, 5):      # 2, 3, 4\n",
    "for i in range(3, 10, 2):  # 3, 5, 7, 9\n",
    "```\n",
    "Mais comment pouvons-nous obtenir les valeurs 10, 8, 6 et 4?"
   ]
  },
  {
   "cell_type": "code",
   "execution_count": null,
   "metadata": {},
   "outputs": [],
   "source": [
    "for i in range(10, 3, -2):\n",
    "    print(i)"
   ]
  },
  {
   "cell_type": "markdown",
   "metadata": {},
   "source": [
    "## Les listes en Python"
   ]
  },
  {
   "cell_type": "code",
   "execution_count": null,
   "metadata": {},
   "outputs": [],
   "source": [
    "impairs = [1, 3, 5, 7]\n",
    "print('Les nombres impairs sont :', impairs)"
   ]
  },
  {
   "cell_type": "code",
   "execution_count": null,
   "metadata": {},
   "outputs": [],
   "source": [
    "print('Premier et dernier :', impairs[0], impairs[-1])"
   ]
  },
  {
   "cell_type": "code",
   "execution_count": null,
   "metadata": {},
   "outputs": [],
   "source": [
    "for nombre in impairs:\n",
    "    print(nombre)"
   ]
  },
  {
   "cell_type": "markdown",
   "metadata": {},
   "source": [
    "### Mutable vs Immutable\n",
    "Les listes sont dites *mutables*, car nous pouvons échanger un de leurs éléments :"
   ]
  },
  {
   "cell_type": "code",
   "execution_count": null,
   "metadata": {},
   "outputs": [],
   "source": [
    "noms = ['Newton', 'Darwing', 'Turing']  # Erreur dans le nom de Darwin\n",
    "print('La liste noms contient initialement :', noms)\n",
    "\n",
    "noms[1] = 'Darwin'  # Remplacement complet du nom\n",
    "print('Contenu final de la liste noms :', noms)"
   ]
  },
  {
   "cell_type": "markdown",
   "metadata": {},
   "source": [
    "Par contre, les chaînes de caractères sont immutables :"
   ]
  },
  {
   "cell_type": "code",
   "execution_count": null,
   "metadata": {},
   "outputs": [],
   "source": [
    "nom = 'Darwin'\n",
    "nom[0] = 'd'  # Ceci produira une erreur d'exécution"
   ]
  },
  {
   "cell_type": "markdown",
   "metadata": {},
   "source": [
    "### Modifier le contenu des listes"
   ]
  },
  {
   "cell_type": "code",
   "execution_count": null,
   "metadata": {},
   "outputs": [],
   "source": [
    "impairs.append(11)\n",
    "print(\"La liste impairs après l'ajout d'un nombre :\", impairs)"
   ]
  },
  {
   "cell_type": "code",
   "execution_count": null,
   "metadata": {},
   "outputs": [],
   "source": [
    "del impairs[0]\n",
    "print(\"La liste impairs après la suppression d'un nombre :\", impairs)"
   ]
  },
  {
   "cell_type": "code",
   "execution_count": null,
   "metadata": {},
   "outputs": [],
   "source": [
    "impairs = [1, 3, 5, 7]\n",
    "premiers = impairs  # list(impairs)\n",
    "premiers[0] = 2\n",
    "impairs.extend([9, 11])\n",
    "\n",
    "print('premiers:', premiers)\n",
    "print('impairs:', impairs)"
   ]
  },
  {
   "cell_type": "markdown",
   "metadata": {},
   "source": [
    "### Exercice (en groupe) - Construire une nouvelle liste\n",
    "Utilisez une boucle `for` pour construire une liste de 10 nombres *triangulaires* (1, 1+2, 1+2+3, ..., 1+...+10).\n",
    "Indice : vous pouvez créer une liste vide comme suit :\n",
    "```Python\n",
    "ma_liste = []\n",
    "```"
   ]
  },
  {
   "cell_type": "code",
   "execution_count": null,
   "metadata": {},
   "outputs": [],
   "source": [
    "ma_liste = []\n",
    "cumul = 0\n",
    "\n",
    "for i in range(10):\n",
    "    cumul += i + 1\n",
    "    ma_liste.append(cumul)\n",
    "\n",
    "print(ma_liste)"
   ]
  },
  {
   "cell_type": "markdown",
   "metadata": {},
   "source": [
    "## Le découpage\n",
    "```Python\n",
    "decoupe = liste_ou_chaine[debut:limite:saut]\n",
    "```\n",
    "* Si `debut` est omis, c'est 0 par défaut\n",
    "* Si `limite` est omis, c'est la longueur de la collection par défaut\n",
    "* Si `saut` est omis, c'est 1 par défaut"
   ]
  },
  {
   "cell_type": "code",
   "execution_count": null,
   "metadata": {},
   "outputs": [],
   "source": [
    "elements = [[\"fluorine\", \"F\"],\n",
    "            [\"chlorine\", \"Cl\"],\n",
    "            [\"bromine\", \"Br\"],\n",
    "            [\"iodine\", \"I\"],\n",
    "            [\"astatine\", \"At\"]]\n",
    "\n",
    "elements[:3]"
   ]
  },
  {
   "cell_type": "code",
   "execution_count": null,
   "metadata": {},
   "outputs": [],
   "source": [
    "chaine_a_decouper = \"Date historique : 2020-03-13\"\n",
    "chaine_a_decouper[-10:]  # Extraire la date"
   ]
  },
  {
   "cell_type": "code",
   "execution_count": null,
   "metadata": {},
   "outputs": [],
   "source": [
    "une_liste = [i**2 for i in range(20)]  # Remplissage rapide de 0^2 à 19^2\n",
    "une_liste[2::5]"
   ]
  },
  {
   "cell_type": "markdown",
   "metadata": {},
   "source": [
    "### Exercice en groupe - Découper des chaînes de caractères\n",
    "Quelle serait la sortie des commandes suivantes?"
   ]
  },
  {
   "cell_type": "code",
   "execution_count": null,
   "metadata": {},
   "outputs": [],
   "source": [
    "element = 'oxygen'\n",
    "print(element[0:3])    # oxy\n",
    "print(element[3:6])    # gen"
   ]
  },
  {
   "cell_type": "code",
   "execution_count": null,
   "metadata": {},
   "outputs": [],
   "source": [
    "print(element[:4])     # oxyg\n",
    "print(element[4:])     # en\n",
    "print(element[:])      # oxygen"
   ]
  },
  {
   "cell_type": "code",
   "execution_count": null,
   "metadata": {},
   "outputs": [],
   "source": [
    "print(element[-1])     # n\n",
    "print(element[-2])     # e\n",
    "print(element[1:-1])   # xyge"
   ]
  },
  {
   "cell_type": "code",
   "execution_count": null,
   "metadata": {},
   "outputs": [],
   "source": [
    "print(element[3:3])    # Chaîne vide"
   ]
  },
  {
   "cell_type": "code",
   "execution_count": null,
   "metadata": {},
   "outputs": [],
   "source": []
  }
 ],
 "metadata": {
  "anaconda-cloud": {},
  "kernelspec": {
   "display_name": "Python 3 (ipykernel)",
   "language": "python",
   "name": "python3"
  },
  "language_info": {
   "codemirror_mode": {
    "name": "ipython",
    "version": 3
   },
   "file_extension": ".py",
   "mimetype": "text/x-python",
   "name": "python",
   "nbconvert_exporter": "python",
   "pygments_lexer": "ipython3",
   "version": "3.8.10"
  }
 },
 "nbformat": 4,
 "nbformat_minor": 4
}
