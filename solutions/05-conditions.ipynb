{
 "cells": [
  {
   "cell_type": "markdown",
   "metadata": {},
   "source": [
    "# Programmer avec Python\n",
    "## Programmation conditionnelle\n",
    "Questions\n",
    "* Comment mes programmes peuvent effectuer des opérations différentes selon la valeurs des données?\n",
    "\n",
    "Objectifs\n",
    "* Écrire des blocs conditionnels includant des branches `if`, `elif` et `else`.\n",
    "* Évaluer correctement des expressions contenant `and` et `or`."
   ]
  },
  {
   "cell_type": "markdown",
   "metadata": {},
   "source": [
    "## Blocs conditionnels"
   ]
  },
  {
   "cell_type": "code",
   "execution_count": null,
   "metadata": {},
   "outputs": [],
   "source": [
    "nombre = 73\n",
    "\n",
    "if nombre < 100:\n",
    "    print('Plus petit')\n",
    "else:\n",
    "    print('Pas plus petit')\n",
    "print('Terminé')"
   ]
  },
  {
   "cell_type": "markdown",
   "metadata": {},
   "source": [
    "![If num greater than 100](../fig/condition-100.svg)"
   ]
  },
  {
   "cell_type": "markdown",
   "metadata": {},
   "source": [
    "### Exercice - Plusieurs chemins possibles\n",
    "Lequel des choix suivants sera affiché si nous exécutons le code ci-dessous?\n",
    "1. A\n",
    "1. B\n",
    "1. C\n",
    "1. B et C"
   ]
  },
  {
   "cell_type": "code",
   "execution_count": null,
   "metadata": {},
   "outputs": [],
   "source": [
    "valeur = 5.0000000000000001\n",
    "seuil = 5\n",
    "\n",
    "if valeur < seuil:\n",
    "    print('A')\n",
    "elif valeur > seuil:\n",
    "    print('B')\n",
    "elif valeur == seuil:\n",
    "    print('C')"
   ]
  },
  {
   "cell_type": "markdown",
   "metadata": {},
   "source": [
    "### Exercice - Fonction [Sinus Cardinal](https://fr.wikipedia.org/wiki/Sinus_cardinal)\n",
    "Soit la formule du sinus cardinal `sin(x) / x` :\n",
    "* En `x=0`, à cause de la division par 0, il faut considérer ce cas à part :\n",
    "  * On sait que la formule tend vers `1` lorsque `x` tend vers `0`\n",
    "* À l'aide de la fonction Python `abs()`, nous voulons assigner un résultat de `1.0` pour toute valeur de `x` dans l'intervalle `0 ± 0.000001`\n",
    "* Pour toute autre valeur de `x`, on calculera `sin(x) / x` normalement"
   ]
  },
  {
   "cell_type": "code",
   "execution_count": null,
   "metadata": {},
   "outputs": [],
   "source": [
    "# À importer pour la fonction sin()\n",
    "from math import sin"
   ]
  },
  {
   "cell_type": "code",
   "execution_count": null,
   "metadata": {},
   "outputs": [],
   "source": [
    "valeur_limitrophe = 0\n",
    "delta_max = 0.000001\n",
    "\n",
    "x = -0.000001001\n",
    "\n",
    "if abs(x - valeur_limitrophe) <= delta_max:\n",
    "    sin_card = 1.0\n",
    "else:\n",
    "    sin_card = sin(x) / x\n",
    "\n",
    "print(sin_card)"
   ]
  },
  {
   "cell_type": "markdown",
   "metadata": {},
   "source": [
    "### Démo - Qu'est-ce qui est considéré vrai?\n",
    "Avec les nombres :"
   ]
  },
  {
   "cell_type": "code",
   "execution_count": null,
   "metadata": {},
   "outputs": [],
   "source": [
    "if 0:\n",
    "    print('Zéro est vrai')\n",
    "if 2**0:\n",
    "    print(f'{2**0} est vrai')"
   ]
  },
  {
   "cell_type": "markdown",
   "metadata": {},
   "source": [
    "Avec les chaînes de caractères :"
   ]
  },
  {
   "cell_type": "code",
   "execution_count": null,
   "metadata": {},
   "outputs": [],
   "source": [
    "if '':\n",
    "    print('Une chaîne vide est vraie')\n",
    "if 'False':\n",
    "    print('Un mot est vrai')"
   ]
  },
  {
   "cell_type": "markdown",
   "metadata": {},
   "source": [
    "Avec les listes :"
   ]
  },
  {
   "cell_type": "code",
   "execution_count": null,
   "metadata": {},
   "outputs": [],
   "source": [
    "if []:\n",
    "    print('Une liste vide est vraie')\n",
    "if [False, False, False]:\n",
    "    print('Une liste pleine est vraie')"
   ]
  },
  {
   "cell_type": "markdown",
   "metadata": {},
   "source": [
    "## Opérateurs booléens"
   ]
  },
  {
   "cell_type": "code",
   "execution_count": null,
   "metadata": {},
   "outputs": [],
   "source": [
    "if not False:\n",
    "    print('not False est vrai')\n",
    "if not not True:\n",
    "    print('not not True est vrai')"
   ]
  },
  {
   "cell_type": "code",
   "execution_count": null,
   "metadata": {},
   "outputs": [],
   "source": [
    "if not '':\n",
    "    print(\"Une chaîne vide n'est pas vraie\")\n",
    "if not 'False':\n",
    "    print(\"Un mot n'est pas vrai\")"
   ]
  },
  {
   "cell_type": "code",
   "execution_count": null,
   "metadata": {},
   "outputs": [],
   "source": [
    "x = 2\n",
    "\n",
    "# Vrai dans l'intervalle ]-1,1[\n",
    "if (-1 < x) and (x < 1):\n",
    "    print('Les deux conditions sont vraies')\n",
    "else:\n",
    "    print('Au moins une condition est fausse')"
   ]
  },
  {
   "cell_type": "code",
   "execution_count": null,
   "metadata": {},
   "outputs": [],
   "source": [
    "# Vrai à l'extérieur de l'intervalle [-1,1]\n",
    "if (x < -1) or (1 < x):\n",
    "    print('Au moins une condition est vraie')"
   ]
  },
  {
   "cell_type": "markdown",
   "metadata": {},
   "source": [
    "## Vérifier nos données"
   ]
  },
  {
   "cell_type": "code",
   "execution_count": null,
   "metadata": {},
   "outputs": [],
   "source": [
    "import numpy"
   ]
  },
  {
   "cell_type": "code",
   "execution_count": null,
   "metadata": {},
   "outputs": [],
   "source": [
    "nom_fic = '../data/inflammation-01.csv'  # Essayez ensuite 03\n",
    "data = numpy.loadtxt(fname=nom_fic, delimiter=',')"
   ]
  },
  {
   "cell_type": "code",
   "execution_count": null,
   "metadata": {},
   "outputs": [],
   "source": [
    "max_inflammation_0 = numpy.max(data, axis=0)[0]\n",
    "max_inflammation_20 = numpy.max(data, axis=0)[20]\n",
    "\n",
    "if (max_inflammation_0 == 0) and (max_inflammation_20 == 20):\n",
    "    print('Valeurs maximales suspectes!')\n",
    "elif numpy.sum(numpy.min(data, axis=0)) == 0:\n",
    "    print('Somme des valeurs minimales nulle!')\n",
    "else:\n",
    "    print('Semble OK!')"
   ]
  },
  {
   "cell_type": "code",
   "execution_count": null,
   "metadata": {},
   "outputs": [],
   "source": []
  }
 ],
 "metadata": {
  "anaconda-cloud": {},
  "kernelspec": {
   "display_name": "Python 3 (ipykernel)",
   "language": "python",
   "name": "python3"
  },
  "language_info": {
   "codemirror_mode": {
    "name": "ipython",
    "version": 3
   },
   "file_extension": ".py",
   "mimetype": "text/x-python",
   "name": "python",
   "nbconvert_exporter": "python",
   "pygments_lexer": "ipython3",
   "version": "3.8.10"
  }
 },
 "nbformat": 4,
 "nbformat_minor": 4
}
