{
 "cells": [
  {
   "cell_type": "markdown",
   "metadata": {},
   "source": [
    "# Programmer avec Python\n",
    "## Créer des fonctions\n",
    "Questions\n",
    "* Comment définir de nouvelles fonctions?\n",
    "* Quelle est la différence entre définir et appeler une fonction?\n",
    "* Qu'arrive-t-il lorsque j'appelle une fonction?\n",
    "\n",
    "Objectifs\n",
    "* Définir une fonction recevant des paramètres.\n",
    "* Retourner une valeur.\n",
    "* Définir des valeurs par défaut aux paramètres.\n",
    "* Expliquer pourquoi il est préférable de diviser le code en fonctions."
   ]
  },
  {
   "cell_type": "markdown",
   "metadata": {},
   "source": [
    "## Définir une fonction\n",
    "![def degF_a_degC(temp)](../fig/fonction-python.svg)"
   ]
  },
  {
   "cell_type": "code",
   "execution_count": null,
   "metadata": {},
   "outputs": [],
   "source": [
    "def degF_a_degC(temp):\n",
    "    return ((temp - 32) * (5/9))"
   ]
  },
  {
   "cell_type": "code",
   "execution_count": null,
   "metadata": {},
   "outputs": [],
   "source": [
    "print(\"Point de congélation de l'eau :\", degF_a_degC(32), 'C')\n",
    "print(\"Point d'ébullition de l'eau :  \", degF_a_degC(212), 'C')"
   ]
  },
  {
   "cell_type": "markdown",
   "metadata": {},
   "source": [
    "### Exercice - Normaliser les valeurs d'un vecteur\n",
    "Écrire une fonction `normaliser` recevant un vecteur en paramètre et retournant un vecteur de même longueur contenant les valeurs d'origine normalisées de 0.0 à 1.0. Indices :\n",
    "* Soit `bas`, la valeur la plus basse\n",
    "* Soit `haut`, la valeur la plus élevée\n",
    "* Calcul d'une `valeur` normalisée : `(valeur - bas) / (haut - bas)`"
   ]
  },
  {
   "cell_type": "code",
   "execution_count": null,
   "metadata": {},
   "outputs": [],
   "source": [
    "import numpy\n",
    "\n",
    "def normaliser(vecteur):\n",
    "    bas = numpy.min(vecteur)\n",
    "    haut = numpy.max(vecteur)\n",
    "\n",
    "    reponses = (vecteur - bas) / (haut - bas)\n",
    "    return reponses\n",
    "\n",
    "print(normaliser(numpy.array([10, 12, 20, 15])))"
   ]
  },
  {
   "cell_type": "markdown",
   "metadata": {},
   "source": [
    "## Nettoyer le code\n",
    "On cherche à structurer le code en créant de courtes fonctions réutilisables et faciles à tester."
   ]
  },
  {
   "cell_type": "code",
   "execution_count": null,
   "metadata": {},
   "outputs": [],
   "source": [
    "import numpy\n",
    "import matplotlib.pyplot as plt"
   ]
  },
  {
   "cell_type": "code",
   "execution_count": null,
   "metadata": {},
   "outputs": [],
   "source": [
    "def visualiser(nom_fic):\n",
    "    # Charger les données du fichier en cours\n",
    "    data = numpy.loadtxt(fname=nom_fic, delimiter=',')\n",
    "\n",
    "    # Créer la figure avec les trois sous-figures\n",
    "    fig = plt.figure(figsize=(10.0, 3.0))\n",
    "\n",
    "    axes1 = fig.add_subplot(1, 3, 1)\n",
    "    axes2 = fig.add_subplot(1, 3, 2)\n",
    "    axes3 = fig.add_subplot(1, 3, 3)\n",
    "\n",
    "    axes1.set_ylabel('Moyenne')\n",
    "    axes1.plot(numpy.mean(data, axis=0))\n",
    "\n",
    "    axes2.set_ylabel('Max')\n",
    "    axes2.plot(numpy.max(data, axis=0))\n",
    "\n",
    "    axes3.set_ylabel('Min')\n",
    "    axes3.plot(numpy.min(data, axis=0))\n",
    "\n",
    "    fig.tight_layout()\n",
    "    plt.show()"
   ]
  },
  {
   "cell_type": "code",
   "execution_count": null,
   "metadata": {},
   "outputs": [],
   "source": [
    "def detecter_probleme(nom_fic):\n",
    "    # Charger les données du fichier en cours\n",
    "    data = numpy.loadtxt(fname=nom_fic, delimiter=',')\n",
    "\n",
    "    max_inflammation_0 = numpy.max(data, axis=0)[0]\n",
    "    max_inflammation_20 = numpy.max(data, axis=0)[20]\n",
    "\n",
    "    if (max_inflammation_0 == 0) and (max_inflammation_20 == 20):\n",
    "        print('Valeurs maximales suspectes!')\n",
    "    elif numpy.sum(numpy.min(data, axis=0)) == 0:\n",
    "        print('Somme des valeurs minimales nulle!')\n",
    "    else:\n",
    "        print('Semble OK!')"
   ]
  },
  {
   "cell_type": "code",
   "execution_count": null,
   "metadata": {},
   "outputs": [],
   "source": [
    "# Code principal\n",
    "import glob\n",
    "\n",
    "noms_fic = sorted(glob.glob('../data/inflammation*.csv'))\n",
    "noms_fic = noms_fic[:3]\n",
    "\n",
    "for nom in noms_fic:\n",
    "    # Afficher le nom\n",
    "    print(nom)\n",
    "    visualiser(nom)\n",
    "    detecter_probleme(nom)"
   ]
  },
  {
   "cell_type": "markdown",
   "metadata": {},
   "source": [
    "## Documenter votre fonction"
   ]
  },
  {
   "cell_type": "code",
   "execution_count": null,
   "metadata": {},
   "outputs": [],
   "source": [
    "# Un vecteur de 5 valeurs linéaires de 75 à 115\n",
    "vecteur = numpy.linspace(75, 115, 5)\n",
    "\n",
    "# Tester ce vecteur pour des fins de documentation\n",
    "print(f'vecteur = {vecteur}')\n",
    "normaliser(vecteur)"
   ]
  },
  {
   "cell_type": "code",
   "execution_count": null,
   "metadata": {},
   "outputs": [],
   "source": [
    "def normaliser(vecteur):\n",
    "    '''Normalise de 0.0 à 1.0 les nombres d'un vecteur\n",
    "    Paramètres:\n",
    "        vecteur -- Vecteur de nombres (non modifié)\n",
    "    Retour:\n",
    "        Un nouveau vecteur avec les valeurs normalisées\n",
    "    Exemple:\n",
    "        >>> normaliser(numpy.linspace(75, 115, 5))\n",
    "        array([0.  , 0.25, 0.5 , 0.75, 1.  ])\n",
    "    '''\n",
    "    bas = numpy.min(vecteur)\n",
    "    haut = numpy.max(vecteur)\n",
    "\n",
    "    reponses = (vecteur - bas) / (haut - bas)\n",
    "    return reponses"
   ]
  },
  {
   "cell_type": "code",
   "execution_count": null,
   "metadata": {},
   "outputs": [],
   "source": [
    "# Obtenir l'information de cette fonction\n",
    "help(normaliser)"
   ]
  },
  {
   "cell_type": "markdown",
   "metadata": {},
   "source": [
    "## Définir des valeurs par défaut"
   ]
  },
  {
   "cell_type": "code",
   "execution_count": null,
   "metadata": {},
   "outputs": [],
   "source": [
    "# De : numpy.loadtxt('../data/inflammation-01.csv', ',')\n",
    "help(numpy.loadtxt)"
   ]
  },
  {
   "cell_type": "code",
   "execution_count": null,
   "metadata": {},
   "outputs": [],
   "source": [
    "def afficherABC(a=1, b=2, c=3):\n",
    "    print('a:', a, 'b:', b, 'c:', c)"
   ]
  },
  {
   "cell_type": "code",
   "execution_count": null,
   "metadata": {},
   "outputs": [],
   "source": [
    "print('Aucun paramètre :')\n",
    "afficherABC()"
   ]
  },
  {
   "cell_type": "code",
   "execution_count": null,
   "metadata": {},
   "outputs": [],
   "source": [
    "print('Un paramètre :')\n",
    "afficherABC(55)"
   ]
  },
  {
   "cell_type": "code",
   "execution_count": null,
   "metadata": {},
   "outputs": [],
   "source": [
    "print('Deux paramètres :')\n",
    "afficherABC(55, 66)"
   ]
  },
  {
   "cell_type": "code",
   "execution_count": null,
   "metadata": {},
   "outputs": [],
   "source": [
    "print('Définir seulement c :')\n",
    "afficherABC(c=77)"
   ]
  },
  {
   "cell_type": "markdown",
   "metadata": {},
   "source": [
    "### Exercices - Mélange de paramètres ayant ou non une valeur par défaut\n",
    "`1`. Étant donné le code suivant :"
   ]
  },
  {
   "cell_type": "markdown",
   "metadata": {},
   "source": [
    "```Python\n",
    "def nombres(un, deux=2, trois, quatre=4):\n",
    "    resultat = str(un) + str(deux) + str(trois) + str(quatre)\n",
    "    return resultat\n",
    "\n",
    "print(nombres(1, trois=3))\n",
    "```"
   ]
  },
  {
   "cell_type": "markdown",
   "metadata": {},
   "source": [
    "Que pensez-vous qu'il sera affiché?\n",
    "\n",
    "1. `1234`\n",
    "1. `1324`\n",
    "1. `un2trois4`\n",
    "1. `SyntaxError`\n",
    "\n",
    "Quelle règle doit-on suivre dans Python?"
   ]
  },
  {
   "cell_type": "markdown",
   "metadata": {},
   "source": [
    "`2`. Étant donné cela, quelle devrait être la sortie du code suivant?"
   ]
  },
  {
   "cell_type": "markdown",
   "metadata": {},
   "source": [
    "```Python\n",
    "def fonctionABC(a, b = 3, c = 6):\n",
    "  print('a: ', a, 'b: ', b,'c:', c)\n",
    "\n",
    "fonctionABC(-1, 2)\n",
    "```"
   ]
  },
  {
   "cell_type": "markdown",
   "metadata": {},
   "source": [
    "1. `a:  b: 3 c: 6`\n",
    "1. `a: -1 b: 3 c: 6`\n",
    "1. `a: -1 b: 2 c: 6`\n",
    "1. `a:  b: -1 c: 2`"
   ]
  },
  {
   "cell_type": "markdown",
   "metadata": {},
   "source": [
    "### Exercice - Définir des valeurs par défaut\n",
    "Réécrivez la fonction `normaliser` de telle sorte que la normalisation soit entre 0.0 et 1.0 par défaut, mais permettant à l'utilisateur de définir des limites différentes."
   ]
  },
  {
   "cell_type": "code",
   "execution_count": null,
   "metadata": {},
   "outputs": [],
   "source": [
    "def normaliser(vecteur, limiteA=0.0, limiteB=1.0):\n",
    "    '''Normalise de limiteA à limiteB les nombres d'un vecteur\n",
    "    Paramètres:\n",
    "        vecteur -- Vecteur de nombres (non modifié)\n",
    "        limiteA -- Nombre, typiquement une valeur basse\n",
    "        limiteB -- Nombre, typiquement une valeur haute\n",
    "    Retour:\n",
    "        Un nouveau vecteur avec les valeurs normalisées\n",
    "    Exemple:\n",
    "        >>> normaliser(numpy.linspace(0, 100, 5))\n",
    "        array([0.  , 0.25, 0.5 , 0.75, 1.  ])\n",
    "    '''\n",
    "    bas = numpy.min(vecteur)\n",
    "    haut = numpy.max(vecteur)\n",
    "\n",
    "    vecteur_norm = (vecteur - bas) / (haut - bas)\n",
    "    reponses = limiteA + (limiteB - limiteA) * vecteur_norm\n",
    "\n",
    "    return reponses"
   ]
  },
  {
   "cell_type": "code",
   "execution_count": null,
   "metadata": {},
   "outputs": [],
   "source": [
    "normaliser(numpy.linspace(0, 100, 5))"
   ]
  },
  {
   "cell_type": "code",
   "execution_count": null,
   "metadata": {},
   "outputs": [],
   "source": [
    "normaliser(numpy.linspace(0, 100, 5), limiteB=100)"
   ]
  },
  {
   "cell_type": "code",
   "execution_count": null,
   "metadata": {},
   "outputs": [],
   "source": [
    "normaliser(numpy.linspace(0, 100, 5), limiteB=0, limiteA=100)"
   ]
  },
  {
   "cell_type": "markdown",
   "metadata": {},
   "source": [
    "### Exercice - Variables internes et externes aux fonctions\n",
    "Quelle est la sortie du code suivant et pourquoi?"
   ]
  },
  {
   "cell_type": "markdown",
   "metadata": {},
   "source": [
    "```Python\n",
    "tempF = 212\n",
    "tempK = -1\n",
    "\n",
    "def degF_a_degK(tempF):\n",
    "  tempK = ((tempF - 32) * (5/9)) + 273.15\n",
    "  return tempK\n",
    "\n",
    "degF_a_degK(32)\n",
    "\n",
    "print(tempK)\n",
    "```"
   ]
  },
  {
   "cell_type": "code",
   "execution_count": null,
   "metadata": {},
   "outputs": [],
   "source": []
  }
 ],
 "metadata": {
  "anaconda-cloud": {},
  "kernelspec": {
   "display_name": "Python 3 (ipykernel)",
   "language": "python",
   "name": "python3"
  },
  "language_info": {
   "codemirror_mode": {
    "name": "ipython",
    "version": 3
   },
   "file_extension": ".py",
   "mimetype": "text/x-python",
   "name": "python",
   "nbconvert_exporter": "python",
   "pygments_lexer": "ipython3",
   "version": "3.8.10"
  }
 },
 "nbformat": 4,
 "nbformat_minor": 4
}
